{
 "cells": [
  {
   "cell_type": "markdown",
   "id": "70e5a1ea",
   "metadata": {},
   "source": [
    "#### Pyramid Pattern Program"
   ]
  },
  {
   "cell_type": "code",
   "execution_count": 8,
   "id": "043e3854",
   "metadata": {},
   "outputs": [
    {
     "name": "stdout",
     "output_type": "stream",
     "text": [
      "        * \r\n",
      "       * * \r\n",
      "      * * * \r\n",
      "     * * * * \r\n",
      "    * * * * * \r\n"
     ]
    }
   ],
   "source": [
    "def pattern(n):\n",
    "      k = 2 * n - 2\n",
    "      for i in range(0,n):\n",
    "           for j in range(0,k):\n",
    "               print(end=\" \")\n",
    "           k = k - 1\n",
    "           for j in range(0, i+1):\n",
    "                print(\"*\", end=\" \")\n",
    "           print(\"\\r\")\n",
    " \n",
    "pattern(5)"
   ]
  },
  {
   "cell_type": "markdown",
   "id": "bb466057",
   "metadata": {},
   "source": [
    "#### Reverse Pyramid Pattern Program"
   ]
  },
  {
   "cell_type": "code",
   "execution_count": 9,
   "id": "8630808d",
   "metadata": {},
   "outputs": [
    {
     "name": "stdout",
     "output_type": "stream",
     "text": [
      "        * * * * * * \r\n",
      "         * * * * * \r\n",
      "          * * * * \r\n",
      "           * * * \r\n",
      "            * * \r\n",
      "             * \r\n"
     ]
    }
   ],
   "source": [
    "def pattern(n):\n",
    "      k = 2*n -2\n",
    "      for i in range(n,-1,-1):\n",
    "           for j in range(k,0,-1):\n",
    "                print(end=\" \")\n",
    "           k = k +1\n",
    "           for j in range(0, i+1):\n",
    "                print(\"*\", end=\" \")\n",
    "           print(\"\\r\")\n",
    " \n",
    "pattern(5)"
   ]
  },
  {
   "cell_type": "markdown",
   "id": "d6d37962",
   "metadata": {},
   "source": [
    "#### Right Start Pattern Program"
   ]
  },
  {
   "cell_type": "code",
   "execution_count": 10,
   "id": "11101393",
   "metadata": {},
   "outputs": [
    {
     "name": "stdout",
     "output_type": "stream",
     "text": [
      "* \r\n",
      "* * \r\n",
      "* * * \r\n",
      "* * * * \r\n",
      "* * * * * \r\n",
      "* * * * * * \r\n",
      "* * * * * \r\n",
      "* * * * \r\n",
      "* * * \r\n",
      "* * \r\n"
     ]
    }
   ],
   "source": [
    "def pattern(n):\n",
    "      for i in range(0, n):\n",
    "           for j in range(0, i + 1):\n",
    "                print(\"* \", end=\"\")\n",
    "           print(\"\\r\")\n",
    "      for i in range(n, 0 , -1):\n",
    "          for j in range(0, i + 1):\n",
    "               print(\"* \", end=\"\")\n",
    "          print(\"\\r\")\n",
    " \n",
    "pattern(5)"
   ]
  },
  {
   "cell_type": "markdown",
   "id": "73b7c96f",
   "metadata": {},
   "source": [
    "#### Left Start Pattern Program"
   ]
  },
  {
   "cell_type": "code",
   "execution_count": 11,
   "id": "cf99a76d",
   "metadata": {},
   "outputs": [
    {
     "name": "stdout",
     "output_type": "stream",
     "text": [
      "        * \r\n",
      "      * * \r\n",
      "    * * * \r\n",
      "  * * * * \r\n",
      "* * * * * \r\n",
      "  * * * * \r\n",
      "    * * * \r\n",
      "      * * \r\n",
      "        * \r\n"
     ]
    }
   ],
   "source": [
    "def pattern(n):\n",
    "    k = 2 * n - 2\n",
    "    for i in range(0, n-1):\n",
    "        for j in range(0, k):\n",
    "            print(end=\" \")\n",
    "        k = k - 2\n",
    "        for j in range(0, i + 1):\n",
    "            print(\"* \", end=\"\")\n",
    "        print(\"\\r\")\n",
    "    k = -1\n",
    "    for i in range(n-1,-1,-1):\n",
    "        for j in range(k,-1,-1):\n",
    "            print(end=\" \")\n",
    "        k = k + 2\n",
    "        for j in range(0, i + 1):\n",
    "            print(\"* \", end=\"\")\n",
    "        print(\"\\r\")\n",
    " \n",
    " \n",
    "pattern(5)"
   ]
  },
  {
   "cell_type": "markdown",
   "id": "41f99367",
   "metadata": {},
   "source": [
    "#### Half-Pyramid Pattern Program"
   ]
  },
  {
   "cell_type": "code",
   "execution_count": 31,
   "id": "5c843142",
   "metadata": {},
   "outputs": [
    {
     "name": "stdout",
     "output_type": "stream",
     "text": [
      "* \r\n",
      "* * \r\n",
      "* * * \r\n",
      "* * * * \r\n",
      "* * * * * \r\n"
     ]
    }
   ],
   "source": [
    "def pattern(n):\n",
    "     for i in range(0,n):\n",
    "         for j in range(0, i+1):\n",
    "              print(\"* \" , end=\"\")\n",
    "         print(\"\\r\")\n",
    " \n",
    "pattern(5)"
   ]
  },
  {
   "cell_type": "markdown",
   "id": "bc2a848b",
   "metadata": {},
   "source": [
    "#### Left Half-Pyramid Pattern Program"
   ]
  },
  {
   "cell_type": "code",
   "execution_count": 32,
   "id": "ec0b5778",
   "metadata": {},
   "outputs": [
    {
     "name": "stdout",
     "output_type": "stream",
     "text": [
      "        * \r\n",
      "      * * \r\n",
      "    * * * \r\n",
      "  * * * * \r\n",
      "* * * * * \r\n"
     ]
    }
   ],
   "source": [
    "def pattern(n):\n",
    "     k = 2 * n - 2\n",
    "     for i in range(0, n):\n",
    "          for j in range(0, k):\n",
    "               print(end=\" \")\n",
    "          k = k - 2\n",
    "          for j in range(0, i + 1):\n",
    "              print(\"* \", end=\"\")\n",
    "          print(\"\\r\")\n",
    "  \n",
    "pattern(5)"
   ]
  },
  {
   "cell_type": "markdown",
   "id": "0efe4786",
   "metadata": {},
   "source": [
    "#### Downward Half-Pyramid Pattern Program"
   ]
  },
  {
   "cell_type": "code",
   "execution_count": 33,
   "id": "77507cde",
   "metadata": {},
   "outputs": [
    {
     "name": "stdout",
     "output_type": "stream",
     "text": [
      "* * * * * * \r\n",
      "* * * * * \r\n",
      "* * * * \r\n",
      "* * * \r\n",
      "* * \r\n",
      "* \r\n"
     ]
    }
   ],
   "source": [
    "def pattern(n):\n",
    "      for i in range(n, -1, -1):\n",
    "           for j in range(0, i + 1):\n",
    "               print(\"* \", end=\"\")\n",
    "           print(\"\\r\")\n",
    " \n",
    "pattern(5)"
   ]
  },
  {
   "cell_type": "markdown",
   "id": "056eaff7",
   "metadata": {},
   "source": [
    "#### Diamond Shaped Pattern Program"
   ]
  },
  {
   "cell_type": "code",
   "execution_count": 38,
   "id": "ec7b28d1",
   "metadata": {},
   "outputs": [
    {
     "name": "stdout",
     "output_type": "stream",
     "text": [
      "        *\n",
      "       ***\n",
      "      *****\n",
      "     *******\n",
      "    *********\n",
      "   ***********\n",
      "  *************\n",
      "   ***********\n",
      "    *********\n",
      "     *******\n",
      "      *****\n",
      "       ***\n",
      "        *\n"
     ]
    }
   ],
   "source": [
    "n = 7\n",
    "for i in range(n):\n",
    "    print(' '*(n-i), \"*\"*(i*2+1))   # \n",
    "\n",
    "for i in range(n-2, -1, -1):\n",
    "    print(' '*(n-i), \"*\"*(i*2+1))"
   ]
  },
  {
   "cell_type": "markdown",
   "id": "134ac127",
   "metadata": {},
   "source": [
    "#### Diamond Star Pattern Program"
   ]
  },
  {
   "cell_type": "code",
   "execution_count": 39,
   "id": "b2748c17",
   "metadata": {},
   "outputs": [
    {
     "name": "stdout",
     "output_type": "stream",
     "text": [
      "  *  \n",
      " * * \n",
      "*   *\n",
      " * * \n",
      "  *  \n"
     ]
    }
   ],
   "source": [
    "for i in range(5):\n",
    "    for j in range(5):\n",
    "        if i + j == 2 or i - j == 2 or i + j == 6 or j - i == 2:\n",
    "            print(\"*\", end=\"\")\n",
    "        else:\n",
    "            print(end=\" \")\n",
    "    print()"
   ]
  },
  {
   "cell_type": "markdown",
   "id": "95c0373e",
   "metadata": {},
   "source": [
    "#### Simple Numbers Program"
   ]
  },
  {
   "cell_type": "code",
   "execution_count": 40,
   "id": "ddfa93a8",
   "metadata": {},
   "outputs": [
    {
     "name": "stdout",
     "output_type": "stream",
     "text": [
      "1 \r\n",
      "2 2 \r\n",
      "3 3 3 \r\n",
      "4 4 4 4 \r\n",
      "5 5 5 5 5 \r\n"
     ]
    }
   ],
   "source": [
    "def pattern(n):\n",
    "    x = 0\n",
    "    for i in range(0 , n):\n",
    "        x += 1 \n",
    "        for j in range(0, i + 1):\n",
    "            print(x , end=\" \") \n",
    "        print(\"\\r\") \n",
    "pattern(5)"
   ]
  },
  {
   "cell_type": "markdown",
   "id": "8656bb8c",
   "metadata": {},
   "source": [
    "#### Pascal’s Triangle Program"
   ]
  },
  {
   "cell_type": "code",
   "execution_count": 41,
   "id": "b5d03c98",
   "metadata": {},
   "outputs": [
    {
     "name": "stdout",
     "output_type": "stream",
     "text": [
      "1  \n",
      "1  1  \n",
      "1  2  1  \n",
      "1  3  3  1  \n",
      "1  4  6  4  1  \n",
      "1  5  10  10  5  1  \n",
      "1  6  15  20  15  6  1  \n"
     ]
    }
   ],
   "source": [
    "def pascal(n):\n",
    "    for i in range(0, n):\n",
    "        for j in range(0, i + 1):\n",
    "            print(function(i, j),\" \", end=\"\")\n",
    "        print()\n",
    " \n",
    "def function(n, k):\n",
    "    res = 1\n",
    "    if (k > n - k):\n",
    "        k = n - k\n",
    "    for i in range(0, k):\n",
    "        res = res * (n - i)\n",
    "        res = res // (i + 1)\n",
    " \n",
    "    return res\n",
    " \n",
    "pascal(7)"
   ]
  },
  {
   "cell_type": "markdown",
   "id": "ec82c327",
   "metadata": {},
   "source": [
    "#### Half-Pyramid Pattern With Numbers"
   ]
  },
  {
   "cell_type": "code",
   "execution_count": 42,
   "id": "e8fb8180",
   "metadata": {},
   "outputs": [
    {
     "name": "stdout",
     "output_type": "stream",
     "text": [
      "1 \r\n",
      "1 2 \r\n",
      "1 2 3 \r\n",
      "1 2 3 4 \r\n"
     ]
    }
   ],
   "source": [
    "def pattern(n):\n",
    "     for i in range(1, n):\n",
    "         for j in range(1, i + 1):\n",
    "             print(j, end= \" \")\n",
    "         print(\"\\r\")\n",
    "pattern(5)"
   ]
  },
  {
   "cell_type": "markdown",
   "id": "6081886d",
   "metadata": {},
   "source": [
    "#### Diamond Pattern With Numbers"
   ]
  },
  {
   "cell_type": "code",
   "execution_count": 43,
   "id": "d9887747",
   "metadata": {},
   "outputs": [
    {
     "name": "stdout",
     "output_type": "stream",
     "text": [
      "        1 \r\n",
      "       2 2 \r\n",
      "      3 3 3 \r\n",
      "     4 4 4 4 \r\n",
      "    5 5 5 5 5 \r\n",
      "   6 6 6 6 6 6 \r\n",
      "    5 5 5 5 5 \r\n",
      "     4 4 4 4 \r\n",
      "      3 3 3 \r\n",
      "       2 2 \r\n",
      "        1 \r\n"
     ]
    }
   ],
   "source": [
    "def pattern(n):\n",
    "    k = 2 * n - 2\n",
    "    x = 0\n",
    "    for i in range(0, n):\n",
    "        x += 1\n",
    "        for j in range(0, k):\n",
    "            print(end=\" \")\n",
    "        k = k - 1\n",
    "        for j in range(0, i + 1):\n",
    "            print(x, end=\" \")\n",
    "        print(\"\\r\")\n",
    "    k = n - 2\n",
    "    x = n + 2\n",
    "    for i in range(n, -1, -1):\n",
    "        x -= 1\n",
    "        for j in range(k, 0, -1):\n",
    "            print(end=\" \")\n",
    "        k = k + 1\n",
    "        for j in range(0, i + 1):\n",
    "            print(x, end=\" \")\n",
    "        print(\"\\r\")\n",
    " \n",
    "pattern(5)"
   ]
  },
  {
   "cell_type": "markdown",
   "id": "a1c54421",
   "metadata": {},
   "source": [
    "#### Descending Order Pattern Program"
   ]
  },
  {
   "cell_type": "code",
   "execution_count": 44,
   "id": "29ac3cf8",
   "metadata": {},
   "outputs": [
    {
     "name": "stdout",
     "output_type": "stream",
     "text": [
      "1 2 3 4 5 \r\n",
      "1 2 3 4 \r\n",
      "1 2 3 \r\n",
      "1 2 \r\n",
      "1 \r\n"
     ]
    }
   ],
   "source": [
    "def pattern(n):\n",
    "    for i in range(n, 0, -1):\n",
    "        for j in range(1, i + 1):\n",
    "            print(j, end=\" \")\n",
    " \n",
    "        print(\"\\r\")\n",
    " \n",
    "pattern(5)"
   ]
  },
  {
   "cell_type": "markdown",
   "id": "241e0cfe",
   "metadata": {},
   "source": [
    "#### Binary Numbers Pattern Program"
   ]
  },
  {
   "cell_type": "code",
   "execution_count": 45,
   "id": "1c939b3b",
   "metadata": {},
   "outputs": [
    {
     "name": "stdout",
     "output_type": "stream",
     "text": [
      "        10\r\n",
      "       1010\r\n",
      "      101010\r\n",
      "     10101010\r\n",
      "    1010101010\r\n"
     ]
    }
   ],
   "source": [
    "def pattern(n):\n",
    "    k = 2 * n - 2\n",
    "    for i in range(0, n):\n",
    "        for j in range(0, k):\n",
    "            print(end=\" \")\n",
    "        k = k - 1\n",
    "        for j in range(0, i + 1):\n",
    "            print('10', end=\"\")\n",
    " \n",
    "        print(\"\\r\")\n",
    " \n",
    "pattern(5)"
   ]
  },
  {
   "cell_type": "markdown",
   "id": "ab5ae0a8",
   "metadata": {},
   "source": [
    "#### Right Alphabetical Triangle"
   ]
  },
  {
   "cell_type": "code",
   "execution_count": 46,
   "id": "7893e70d",
   "metadata": {},
   "outputs": [
    {
     "name": "stdout",
     "output_type": "stream",
     "text": [
      "A \r\n",
      "B B \r\n",
      "C C C \r\n",
      "D D D D \r\n",
      "E E E E E \r\n"
     ]
    }
   ],
   "source": [
    "def pattern(n):\n",
    "    x = 65\n",
    "    for i in range(0, n):\n",
    "        ch = chr(x)\n",
    "        x += 1\n",
    "        for j in range(0, i + 1):\n",
    "            print(ch, end=\" \")\n",
    "        print(\"\\r\")\n",
    " \n",
    "pattern(5)"
   ]
  },
  {
   "cell_type": "markdown",
   "id": "c9735bf8",
   "metadata": {},
   "source": [
    "#### Character Pattern Program"
   ]
  },
  {
   "cell_type": "code",
   "execution_count": 47,
   "id": "4c8e6c2e",
   "metadata": {},
   "outputs": [
    {
     "name": "stdout",
     "output_type": "stream",
     "text": [
      "            A \r\n",
      "           B C \r\n",
      "          D E F \r\n",
      "         G H I J \r\n",
      "        K L M N O \r\n",
      "       P Q R S T U \r\n",
      "      V W X Y Z [ \\ \r\n"
     ]
    }
   ],
   "source": [
    "def pattern(n):\n",
    "    k = 2 * n - 2\n",
    "    x = 65\n",
    "    for i in range(0, n):\n",
    "        for j in range(0, k):\n",
    "            print(end=\" \")\n",
    "        k = k - 1\n",
    "        for j in range(0, i + 1):\n",
    "            ch = chr(x)\n",
    "            print(ch, end=\" \")\n",
    "            x += 1\n",
    "        print(\"\\r\")\n",
    " \n",
    " \n",
    "pattern(7)"
   ]
  },
  {
   "cell_type": "markdown",
   "id": "3d3f2d9e",
   "metadata": {},
   "source": [
    "#### K Shape Character Program"
   ]
  },
  {
   "cell_type": "code",
   "execution_count": 48,
   "id": "9e695621",
   "metadata": {},
   "outputs": [
    {
     "name": "stdout",
     "output_type": "stream",
     "text": [
      "*  *   \n",
      "* *    \n",
      "**     \n",
      "*      \n",
      "**     \n",
      "* *    \n",
      "*  *   \n"
     ]
    }
   ],
   "source": [
    "for i in range(7):\n",
    "    for j in range(7):\n",
    "        if j == 0 or i - j == 3 or i + j == 3:\n",
    "            print(\"*\", end=\"\")\n",
    "        else:\n",
    "            print(end=\" \")\n",
    "    print()"
   ]
  },
  {
   "cell_type": "markdown",
   "id": "68630b1a",
   "metadata": {},
   "source": [
    "#### Triangle Character Pattern Program"
   ]
  },
  {
   "cell_type": "code",
   "execution_count": 49,
   "id": "71314057",
   "metadata": {},
   "outputs": [
    {
     "name": "stdout",
     "output_type": "stream",
     "text": [
      "        A \r\n",
      "       B B \r\n",
      "      C C C \r\n",
      "     D D D D \r\n",
      "    E E E E E \r\n"
     ]
    }
   ],
   "source": [
    "def pattern(n):\n",
    "    k = 2 * n - 2\n",
    "    x = 65\n",
    "    for i in range(0, n):\n",
    "        ch = chr(x)\n",
    "        x += 1\n",
    "        for j in range(0, k):\n",
    "            print(end=\" \")\n",
    "        k = k - 1\n",
    "        for j in range(0, i + 1):\n",
    "            print(ch, end=\" \")\n",
    "        print(\"\\r\")\n",
    " \n",
    " \n",
    "pattern(5)"
   ]
  },
  {
   "cell_type": "markdown",
   "id": "07ab305e",
   "metadata": {},
   "source": [
    "#### Diamond Shaped Character Pattern Program"
   ]
  },
  {
   "cell_type": "code",
   "execution_count": 50,
   "id": "c436c89b",
   "metadata": {},
   "outputs": [
    {
     "name": "stdout",
     "output_type": "stream",
     "text": [
      "        A \r\n",
      "       A B \r\n",
      "      A B C \r\n",
      "     A B C D \r\n",
      "    A B C D E \r\n",
      "   A B C D E F \r\n",
      "    G H I J K \r\n",
      "     L M N O \r\n",
      "      P Q R \r\n",
      "       S T \r\n",
      "        U \r\n"
     ]
    }
   ],
   "source": [
    "def pattern(n):\n",
    "    k = 2 * n - 2\n",
    "    for i in range(0, n):\n",
    "        for j in range(0, k):\n",
    "            print(end=\" \")\n",
    "        k = k - 1\n",
    "        x = 65\n",
    "        for j in range(0, i + 1):\n",
    "            ch = chr(x)\n",
    "            print(ch, end=\" \")\n",
    "            x += 1\n",
    "        print(\"\\r\")\n",
    "    k = n - 2\n",
    "    x = 65\n",
    "    for i in range(n, -1, -1):\n",
    "        for j in range(k, 0, -1):\n",
    "            print(end=\" \")\n",
    "        k = k + 1\n",
    "        for j in range(0, i + 1):\n",
    "            ch = chr(x)\n",
    "            print(ch, end=\" \")\n",
    "            x += 1\n",
    "        print(\"\\r\")\n",
    " \n",
    " \n",
    "pattern(5)"
   ]
  },
  {
   "cell_type": "code",
   "execution_count": null,
   "id": "91eb60c0",
   "metadata": {},
   "outputs": [],
   "source": []
  }
 ],
 "metadata": {
  "kernelspec": {
   "display_name": "Python 3 (ipykernel)",
   "language": "python",
   "name": "python3"
  },
  "language_info": {
   "codemirror_mode": {
    "name": "ipython",
    "version": 3
   },
   "file_extension": ".py",
   "mimetype": "text/x-python",
   "name": "python",
   "nbconvert_exporter": "python",
   "pygments_lexer": "ipython3",
   "version": "3.9.7"
  }
 },
 "nbformat": 4,
 "nbformat_minor": 5
}
